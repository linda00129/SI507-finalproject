{
 "cells": [
  {
   "cell_type": "code",
   "execution_count": 46,
   "metadata": {},
   "outputs": [],
   "source": [
    "import pandas as pd\n",
    "import numpy as np\n",
    "from collections import deque\n",
    "import json"
   ]
  },
  {
   "cell_type": "markdown",
   "metadata": {},
   "source": [
    "Load and preprocess the data table."
   ]
  },
  {
   "cell_type": "code",
   "execution_count": 47,
   "metadata": {},
   "outputs": [],
   "source": [
    "location=pd.read_csv('data/EDUCATIONAL_LOCATIONS.csv')\n",
    "location.dropna(subset=['POINT_X','POINT_Y','OBJECTID','Site_Zipcode','Mail_Zipcode'],inplace=True)"
   ]
  },
  {
   "cell_type": "code",
   "execution_count": 48,
   "metadata": {},
   "outputs": [],
   "source": [
    "idList=location['OBJECTID'].astype(int).tolist()\n",
    "siteList=location['Site_Zipcode'].astype(int).tolist()\n",
    "mailList=location['Mail_Zipcode'].astype(int).tolist()\n",
    "graphList={}\n",
    "zipcodeSet=set()\n",
    "locSet=set()"
   ]
  },
  {
   "cell_type": "markdown",
   "metadata": {},
   "source": [
    "Set up the graph."
   ]
  },
  {
   "cell_type": "code",
   "execution_count": 49,
   "metadata": {},
   "outputs": [],
   "source": [
    "for i in range (len(idList)):\n",
    "    if siteList[i] not in zipcodeSet:\n",
    "        graphList[siteList[i]]=set()\n",
    "        zipcodeSet.add(siteList[i])\n",
    "    graphList[siteList[i]].add(idList[i])\n",
    "    if mailList[i] not in zipcodeSet:\n",
    "        graphList[mailList[i]]=set()\n",
    "        zipcodeSet.add(mailList[i])\n",
    "    graphList[mailList[i]].add(idList[i])\n",
    "    graphList[idList[i]]={siteList[i],mailList[i]}\n",
    "    locSet.add(idList[i])"
   ]
  },
  {
   "cell_type": "markdown",
   "metadata": {},
   "source": [
    "Export the graph to a file."
   ]
  },
  {
   "cell_type": "code",
   "execution_count": 50,
   "metadata": {},
   "outputs": [],
   "source": [
    "graphAll={}\n",
    "graphAll['graph']={key:list(value) for key,value in graphList.items()}\n",
    "graphAll['zipcode']=list(zipcodeSet)\n",
    "graphAll['location']=list(locSet)\n",
    "with open('data/cache_graph.json','w') as f:\n",
    "    json.dump(graphAll,f)"
   ]
  },
  {
   "cell_type": "markdown",
   "metadata": {},
   "source": [
    "Function: load the grah from a file."
   ]
  },
  {
   "cell_type": "code",
   "execution_count": 51,
   "metadata": {},
   "outputs": [],
   "source": [
    "def loadGraph(path):\n",
    "    '''\n",
    "    load the graph fromjson file\n",
    "\n",
    "    Parameters\n",
    "    ----------\n",
    "    path : str\n",
    "        the file path\n",
    "\n",
    "    Returns\n",
    "    ----------\n",
    "    graphSet : dict\n",
    "        the graph content\n",
    "    graphKey : set\n",
    "        the set of zipcode\n",
    "    graphLoc : set\n",
    "        the set of location id\n",
    "\n",
    "    '''\n",
    "    with open(path) as f:\n",
    "        graph=json.load(f)\n",
    "    graphVal=graph['graph']\n",
    "    graphKey=set(graph['zipcode'])\n",
    "    graphLoc=set(graph['location'])\n",
    "    graphSet={key:set(value) for key,value in graphVal.items()}\n",
    "    return graphSet,graphKey,graphLoc"
   ]
  },
  {
   "cell_type": "code",
   "execution_count": 52,
   "metadata": {},
   "outputs": [],
   "source": [
    "def BFS(graph, A,locs):\n",
    "    '''\n",
    "    use BFS to get the distance from A to all points\n",
    "\n",
    "    Parameters\n",
    "    ----------\n",
    "    graph : dict\n",
    "        the dictionary of nodes and their adjacent nodes\n",
    "    locs : set\n",
    "        a set of all nodes currently in graph\n",
    "    A : int\n",
    "        the starter\n",
    "\n",
    "    Returns\n",
    "    ----------\n",
    "    dist : dict\n",
    "        the dictionary of distance from starter A to other nodes\n",
    "\n",
    "    '''\n",
    "    dist={key:-1 for key in locs.keys()}\n",
    "    dist[A]=0\n",
    "    visited=set()\n",
    "    queue=deque()\n",
    "    visited.add(A)\n",
    "    queue.append(A)\n",
    "    while queue:\n",
    "        curr=queue.popleft()\n",
    "        for ele in graph[curr]:\n",
    "            if ele not in visited:\n",
    "                dist[ele]=dist[curr]+1\n",
    "                queue.append(ele)\n",
    "                visited.add(ele)\n",
    "\n",
    "    return dist"
   ]
  }
 ],
 "metadata": {
  "kernelspec": {
   "display_name": "Python 3",
   "language": "python",
   "name": "python3"
  },
  "language_info": {
   "codemirror_mode": {
    "name": "ipython",
    "version": 3
   },
   "file_extension": ".py",
   "mimetype": "text/x-python",
   "name": "python",
   "nbconvert_exporter": "python",
   "pygments_lexer": "ipython3",
   "version": "3.11.5"
  }
 },
 "nbformat": 4,
 "nbformat_minor": 2
}
